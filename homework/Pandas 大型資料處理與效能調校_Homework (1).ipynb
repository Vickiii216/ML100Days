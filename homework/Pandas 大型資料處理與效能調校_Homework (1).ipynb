{
 "cells": [
  {
   "cell_type": "code",
   "execution_count": null,
   "id": "01745f5c",
   "metadata": {},
   "outputs": [],
   "source": [
    "# 1.在速度較慢的時候，可以先從哪邊開始檢查？\n",
    "\n",
    "可以先檢查有沒有使用到自訂義的函式，如果有可以查詢python是否提供相關的內建函式；\n",
    "再來讀取資料型態選擇最快速的:pkl>hdf>csv>>>>xlsx，或是採用向量化的處理方式。"
   ]
  },
  {
   "cell_type": "code",
   "execution_count": null,
   "id": "fd482cf2",
   "metadata": {},
   "outputs": [],
   "source": [
    "# 2.資料過大時應採取什麼方式讓記憶體占用量下降？\n",
    "\n",
    "欄位的型態降級有助於減少記憶體存取空間，讓程式運行地更有效率。"
   ]
  }
 ],
 "metadata": {
  "kernelspec": {
   "display_name": "Python 3",
   "language": "python",
   "name": "python3"
  },
  "language_info": {
   "codemirror_mode": {
    "name": "ipython",
    "version": 3
   },
   "file_extension": ".py",
   "mimetype": "text/x-python",
   "name": "python",
   "nbconvert_exporter": "python",
   "pygments_lexer": "ipython3",
   "version": "3.8.8"
  }
 },
 "nbformat": 4,
 "nbformat_minor": 5
}
